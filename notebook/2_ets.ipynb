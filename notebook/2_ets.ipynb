{
 "cells": [
  {
   "cell_type": "markdown",
   "metadata": {},
   "source": [
    "# Set up"
   ]
  },
  {
   "cell_type": "code",
   "execution_count": 1,
   "metadata": {},
   "outputs": [
    {
     "name": "stderr",
     "output_type": "stream",
     "text": [
      "Using TensorFlow backend.\n"
     ]
    }
   ],
   "source": [
    "%matplotlib inline\n",
    "%run fcast.py\n",
    "\n",
    "# customize matplotlib plots\n",
    "mpl.style.use('seaborn-darkgrid')\n",
    "plt.rc('font', family='TH Sarabun New')\n",
    "plt.rc('xtick', labelsize=12)\n",
    "plt.rc('ytick', labelsize=12)\n",
    "plt.rc('axes',  labelsize=16)\n",
    "plt.rc('figure', figsize=(6.5,4), dpi=300)"
   ]
  },
  {
   "cell_type": "markdown",
   "metadata": {},
   "source": [
    "## Workflow\n",
    "\n",
    "1. **Prepare data**\n",
    "    1. **Transform** data i.e. taking log, scaling, and differencing.\n",
    "> If data is transformed, prediction must be converted by **inversing transformation** operations.\n",
    "    2. **Split** data into three sets e.g. train, validation and test set. For example, 60:20:20 proportion.\n",
    "    3. For deep learning, we need to reshape data **to [Keras](https://keras.io)** format.\n",
    "        1. Number of periods to used as model's input.\n",
    "        2. Number of periods to forecast as model's output.\n",
    "\n",
    "\n",
    "2. **Grid search** for the best hyper-parameters (configs).\n",
    "    1. For each hyper-parameter, **fit the model** using **train set**.  \n",
    "    2. **Walk forward validation** over the **validation set**.  \n",
    "    3. **Measure** the model's performance via some metrics. In this case, we use RMSE.  \n",
    "    4. For deep learning techniques, **repeat** step A-C n times because deep learning is stochastic.\n",
    "    5. **Select** the best config based on RMSE.\n",
    "    \n",
    "    \n",
    "3. **Forecast**.\n",
    "    1. **Combine** train and validation set called it **train2 set**.\n",
    "    2. **Refit model** using **train2 set** and the config from step 1.\n",
    "    3. **Walk forward validation** over the **test set**.\n",
    "    4. **Measure** the model's performance using RMSE.\n",
    "    5. For deep learning techniques, **repeat** step B-D.\n",
    "    6. **Return** model's performance, predicted.\n",
    "    \n",
    "    \n",
    "4. **Evaluate** models including\n",
    "    - Naive or Persistent model (NAIVE) \n",
    "    - Exponential Smoothing (ES) \n",
    "    - Seasonal Autoregressive Integrated Moving Average (SARIMA)\n",
    "    - Multilayer Perceptron (MLP) \n",
    "    - Long Short-Term Memory (LSTM)"
   ]
  },
  {
   "cell_type": "markdown",
   "metadata": {},
   "source": [
    "## Structure of defined functions\n",
    "1. `data_` means data preparation steps\n",
    "    1. `data_split`\n",
    "    2. `data_transform`\n",
    "    3. `data_reshape`\n",
    "    \n",
    "    \n",
    "2. `model_` means model steps\n",
    "    1. `model_config`\n",
    "    2. `model_fit`\n",
    "    3. `model_predict`\n",
    "\n",
    "\n",
    "3. `eval_`\n",
    "\n",
    "\n",
    "4. `plot_`"
   ]
  },
  {
   "cell_type": "markdown",
   "metadata": {},
   "source": [
    "# Prepare data"
   ]
  },
  {
   "cell_type": "markdown",
   "metadata": {},
   "source": [
    "## Import price data\n",
    "\n",
    "โหลดข้อมูลราคาข้าวเปลือกที่เกษตรกรขายได้ 3 ชนิดข้าว ได้แก่ ข้าวหอมมะลิ (`hml`) ข้าวเจ้าขาว (`wht`) และข้าวเหนียว (`glu`)  \n",
    "นอกจากนี้ ยังเพิ่มข้อมูล metadata ประกอบด้วยตัวย่อ(abb) ชื่อย่อ (shortname) และ ชื่อเต็ม(fullname)"
   ]
  },
  {
   "cell_type": "code",
   "execution_count": 2,
   "metadata": {},
   "outputs": [],
   "source": [
    "hml = read_price('hml')\n",
    "hml.meta = SimpleNamespace()\n",
    "hml.meta.abb = 'hml'\n",
    "hml.meta.shortname = 'ข้าวหอมมะลิ'\n",
    "hml.meta.fullname = 'ราคาข้าวเปลือกหอมมะลิ ที่เกษตรกรขายได้ ณ ไร่นา'\n",
    "\n",
    "wht = read_price('wht')\n",
    "wht.meta = SimpleNamespace()\n",
    "wht.meta.abb = 'wht'\n",
    "wht.meta.shortname = 'ข้าวเจ้าขาว'\n",
    "wht.meta.fullname = 'ราคาข้าวเปลือกเจ้าขาว ที่เกษตรกรขายได้ ณ ไร่นา'\n",
    "\n",
    "glu = read_price('glu')\n",
    "glu.meta = SimpleNamespace()\n",
    "glu.meta.abb = 'glu'\n",
    "glu.meta.shortname = 'ข้าวเหนียว'\n",
    "glu.meta.fullname = 'ราคาข้าวเปลือกเหนียวเมล็ดยาว ที่เกษตรกรขายได้ ณ ไร่นา'\n",
    "\n",
    "prices = [hml, wht, glu]"
   ]
  },
  {
   "cell_type": "markdown",
   "metadata": {},
   "source": [
    "## Policy data\n",
    "เพิ่มข้อมูล dummy ปีที่มีนโยบายจำนำข้าวทุกเมล็ดของรัฐบาลยิ่งลักษณ์ ระหว่าง Oct 2010 - Feb 2014"
   ]
  },
  {
   "cell_type": "code",
   "execution_count": 3,
   "metadata": {},
   "outputs": [],
   "source": [
    "exo = pd.DataFrame(index = wht.index)\n",
    "exo['pledge_scheme'] = 0\n",
    "exo.loc['2011-10':'2014-2'] = 1"
   ]
  },
  {
   "cell_type": "markdown",
   "metadata": {},
   "source": [
    "## Data Transformation"
   ]
  },
  {
   "cell_type": "code",
   "execution_count": 5,
   "metadata": {},
   "outputs": [
    {
     "name": "stdout",
     "output_type": "stream",
     "text": [
      "hml 259 85 85\n",
      "wht 259 85 85\n",
      "glu 259 85 85\n"
     ]
    }
   ],
   "source": [
    "for price in prices:\n",
    "  price.scaled, price.scaler = data_transform(price, method=None)\n",
    "  price.train, price.validate, price.train2, price.test = data_split(price.scaled)\n",
    "  print(price.meta.abb, price.train.size, price.validate.size, price.test.size)"
   ]
  },
  {
   "cell_type": "markdown",
   "metadata": {},
   "source": [
    "# Exponential Smoothing"
   ]
  },
  {
   "cell_type": "markdown",
   "metadata": {},
   "source": [
    "## Generate Parameter Grid"
   ]
  },
  {
   "cell_type": "code",
   "execution_count": 6,
   "metadata": {},
   "outputs": [
    {
     "data": {
      "text/plain": [
       "[('add', False, None),\n",
       " ('add', False, 'add'),\n",
       " ('add', False, 'mul'),\n",
       " ('add', True, None),\n",
       " ('add', True, 'add'),\n",
       " ('add', True, 'mul'),\n",
       " ('mul', False, None),\n",
       " ('mul', False, 'add'),\n",
       " ('mul', False, 'mul'),\n",
       " ('mul', True, None),\n",
       " ('mul', True, 'add'),\n",
       " ('mul', True, 'mul')]"
      ]
     },
     "execution_count": 6,
     "metadata": {},
     "output_type": "execute_result"
    }
   ],
   "source": [
    "# trend = [None]\n",
    "# damped = [False]\n",
    "# seasonal = [None, 'add', 'mul']\n",
    "# conf1 = model_configs(trend, damped, seasonal)\n",
    "\n",
    "trend = ['add', 'mul']\n",
    "damped = [False, True]\n",
    "seasonal = [None, 'add', 'mul']\n",
    "# conf2 = model_configs(trend, damped, seasonal)\n",
    "\n",
    "# ets_configs = [*conf1, *conf2]\n",
    "ets_configs = model_configs(trend, damped, seasonal)\n",
    "ets_configs"
   ]
  },
  {
   "cell_type": "markdown",
   "metadata": {},
   "source": [
    "## Define function"
   ]
  },
  {
   "cell_type": "code",
   "execution_count": 13,
   "metadata": {},
   "outputs": [],
   "source": [
    "def ets_fit(data, config, n_periods=12):\n",
    "  trend, damped, seasonal = config\n",
    "  return ets(data, trend=trend, damped=damped,\n",
    "             seasonal=seasonal,seasonal_periods=n_periods\n",
    "            ).fit(use_boxcox='log')\n",
    "\n",
    "def ets_forecast(model_fitted, data, n_forecast=4):\n",
    "  scaler = getattr(data, \"scaler\")\n",
    "  df = pd.DataFrame(model_fitted.forecast(n_forecast),\n",
    "                    columns=[\"yhat_scaled\"])\n",
    "  df['yhat'] = scaler.inverse_transform(df)\n",
    "  return df['yhat']\n",
    "\n",
    "def ets_walk_forward(data, config, search_mode=False, n_forecast=4):\n",
    "  train, test = select_traintest(data, search_mode)\n",
    "  data_ = pd.concat([train,test])\n",
    "  N = data_.shape[0]\n",
    "  n_test = test.shape[0]\n",
    "  n_yhat = n_test+1 # +1 for count adjustment\n",
    "  yhat = np.empty((n_yhat, n_forecast))\n",
    "  \n",
    "  history = train\n",
    "  for i in range(n_yhat):\n",
    "    model_fitted = ets_fit(history, config)\n",
    "    yhat[i] = ets_forecast(model_fitted, data, n_forecast)\n",
    "    if i < n_yhat-1:\n",
    "      history = history.append(test.iloc[i]) \n",
    "\n",
    "  yhat = pd.DataFrame(yhat,\n",
    "                      columns=[f'yhat{h}' for h in range(1, n_forecast+1)],\n",
    "                      index=data_.index[-n_test-1:])\n",
    "\n",
    "  return yhat"
   ]
  },
  {
   "cell_type": "code",
   "execution_count": 14,
   "metadata": {},
   "outputs": [
    {
     "data": {
      "text/html": [
       "<div>\n",
       "<style scoped>\n",
       "    .dataframe tbody tr th:only-of-type {\n",
       "        vertical-align: middle;\n",
       "    }\n",
       "\n",
       "    .dataframe tbody tr th {\n",
       "        vertical-align: top;\n",
       "    }\n",
       "\n",
       "    .dataframe thead th {\n",
       "        text-align: right;\n",
       "    }\n",
       "</style>\n",
       "<table border=\"1\" class=\"dataframe\">\n",
       "  <thead>\n",
       "    <tr style=\"text-align: right;\">\n",
       "      <th></th>\n",
       "      <th>rmse</th>\n",
       "      <th>mae</th>\n",
       "      <th>mape</th>\n",
       "      <th>rmse1</th>\n",
       "      <th>mae1</th>\n",
       "      <th>mape1</th>\n",
       "      <th>rmse2</th>\n",
       "      <th>mae2</th>\n",
       "      <th>mape2</th>\n",
       "      <th>rmse3</th>\n",
       "      <th>mae3</th>\n",
       "      <th>mape3</th>\n",
       "      <th>rmse4</th>\n",
       "      <th>mae4</th>\n",
       "      <th>mape4</th>\n",
       "    </tr>\n",
       "  </thead>\n",
       "  <tbody>\n",
       "    <tr>\n",
       "      <th>add-False-None</th>\n",
       "      <td>1,232.6238</td>\n",
       "      <td>773.2564</td>\n",
       "      <td>0.0594</td>\n",
       "      <td>687.9490</td>\n",
       "      <td>398.8807</td>\n",
       "      <td>0.0311</td>\n",
       "      <td>1,115.1376</td>\n",
       "      <td>706.7849</td>\n",
       "      <td>0.0546</td>\n",
       "      <td>1,442.9568</td>\n",
       "      <td>923.7551</td>\n",
       "      <td>0.0709</td>\n",
       "      <td>1,684.4520</td>\n",
       "      <td>1,063.6052</td>\n",
       "      <td>0.0810</td>\n",
       "    </tr>\n",
       "  </tbody>\n",
       "</table>\n",
       "</div>"
      ],
      "text/plain": [
       "                     rmse      mae   mape    rmse1     mae1  mape1      rmse2  \\\n",
       "add-False-None 1,232.6238 773.2564 0.0594 687.9490 398.8807 0.0311 1,115.1376   \n",
       "\n",
       "                   mae2  mape2      rmse3     mae3  mape3      rmse4  \\\n",
       "add-False-None 706.7849 0.0546 1,442.9568 923.7551 0.0709 1,684.4520   \n",
       "\n",
       "                     mae4  mape4  \n",
       "add-False-None 1,063.6052 0.0810  "
      ]
     },
     "execution_count": 14,
     "metadata": {},
     "output_type": "execute_result"
    }
   ],
   "source": [
    "# test\n",
    "# config = ets_configs[0]\n",
    "# fitted = ets_fit(hml.scaled, config)\n",
    "# yhat = ets_walk_forward(hml, config, search_mode=True)\n",
    "# scores = model_measure(hml, yhat, config)\n",
    "# scores"
   ]
  },
  {
   "cell_type": "markdown",
   "metadata": {},
   "source": [
    "# Run"
   ]
  },
  {
   "cell_type": "code",
   "execution_count": 15,
   "metadata": {},
   "outputs": [],
   "source": [
    "ets_model = [ets_fit, ets_forecast, ets_walk_forward, ets_configs]"
   ]
  },
  {
   "cell_type": "code",
   "execution_count": 16,
   "metadata": {},
   "outputs": [
    {
     "name": "stdout",
     "output_type": "stream",
     "text": [
      "{('add-False-None',): {'rmse': 1232.6238, 'mae': 773.2564, 'mape': 0.0594}}\n",
      "{('add-False-add',): {'rmse': 1428.9367, 'mae': 863.0766, 'mape': 0.0666}}\n",
      "{('add-False-mul',): {'rmse': 1456.4919, 'mae': 926.2758, 'mape': 0.0717}}\n",
      "{('add-True-None',): {'rmse': 1235.6707, 'mae': 771.2672, 'mape': 0.0593}}\n",
      "{('add-True-add',): {'rmse': 1326.3842, 'mae': 831.5626, 'mape': 0.0644}}\n",
      "{('add-True-mul',): {'rmse': 1307.2729, 'mae': 839.555, 'mape': 0.0656}}\n",
      "{('mul-False-None',): {'rmse': 1235.2917, 'mae': 775.5002, 'mape': 0.0596}}\n",
      "{('mul-False-add',): {'rmse': 1434.0116, 'mae': 865.4826, 'mape': 0.0666}}\n",
      "{('mul-False-mul',): {'rmse': 1412.4736, 'mae': 870.7516, 'mape': 0.0659}}\n",
      "{('mul-True-None',): {'rmse': 1230.768, 'mae': 769.444, 'mape': 0.0592}}\n",
      "{('mul-True-add',): {'rmse': 1440.2755, 'mae': 869.2159, 'mape': 0.067}}\n",
      "{('mul-True-mul',): {'rmse': 1568.3361, 'mae': 1078.3189, 'mape': 0.0851}}\n",
      "hml 259 85 85\n",
      "{('add-False-None',): {'rmse': 1045.6521, 'mae': 607.1432, 'mape': 0.0636}}\n",
      "{('add-False-add',): {'rmse': 1378.1955, 'mae': 917.7644, 'mape': 0.0989}}\n",
      "{('add-False-mul',): {'rmse': 1434.4158, 'mae': 955.6821, 'mape': 0.1027}}\n",
      "{('add-True-None',): {'rmse': 1048.6116, 'mae': 608.2515, 'mape': 0.0632}}\n",
      "{('add-True-add',): {'rmse': 1255.7587, 'mae': 825.221, 'mape': 0.0885}}\n",
      "{('add-True-mul',): {'rmse': 1257.0706, 'mae': 796.158, 'mape': 0.0839}}\n",
      "{('mul-False-None',): {'rmse': 1047.4711, 'mae': 608.8183, 'mape': 0.0638}}\n",
      "{('mul-False-add',): {'rmse': 1363.6412, 'mae': 904.9918, 'mape': 0.0974}}\n",
      "{('mul-False-mul',): {'rmse': 1288.2726, 'mae': 817.5958, 'mape': 0.0863}}\n",
      "{('mul-True-None',): {'rmse': 1055.9725, 'mae': 611.4832, 'mape': 0.0635}}\n",
      "{('mul-True-add',): {'rmse': 1370.9588, 'mae': 906.7001, 'mape': 0.0973}}\n",
      "{('mul-True-mul',): {'rmse': 1534.8239, 'mae': 1019.5174, 'mape': 0.1122}}\n",
      "wht 259 85 85\n",
      "{('add-False-None',): {'rmse': 1340.9768, 'mae': 1005.3956, 'mape': 0.0994}}\n",
      "{('add-False-add',): {'rmse': 1431.5159, 'mae': 1084.4179, 'mape': 0.1077}}\n",
      "{('add-False-mul',): {'rmse': 1446.4711, 'mae': 1096.5895, 'mape': 0.1087}}\n",
      "{('add-True-None',): {'rmse': 1305.2384, 'mae': 979.5717, 'mape': 0.0965}}\n",
      "{('add-True-add',): {'rmse': 1359.9905, 'mae': 1044.6244, 'mape': 0.1055}}\n",
      "{('add-True-mul',): {'rmse': 1378.5639, 'mae': 1054.8754, 'mape': 0.1048}}\n",
      "{('mul-False-None',): {'rmse': 1344.532, 'mae': 1008.3023, 'mape': 0.0997}}\n",
      "{('mul-False-add',): {'rmse': 1437.4765, 'mae': 1091.3089, 'mape': 0.1082}}\n",
      "{('mul-False-mul',): {'rmse': 1418.3628, 'mae': 1087.3293, 'mape': 0.1072}}\n",
      "{('mul-True-None',): {'rmse': 1310.0615, 'mae': 984.0181, 'mape': 0.097}}\n",
      "{('mul-True-add',): {'rmse': 1434.1996, 'mae': 1087.5492, 'mape': 0.1078}}\n",
      "{('mul-True-mul',): {'rmse': 1506.4798, 'mae': 1139.8942, 'mape': 0.1071}}\n",
      "glu 259 85 85\n",
      "Wall time: 1h 28s\n"
     ]
    }
   ],
   "source": [
    "%%time\n",
    "n_forecast=4\n",
    "for price in prices:\n",
    "  price.ets_grid_result, price.ets_config = grid_search(price, ets_model, n_forecast=n_forecast)\n",
    "  price.ets_yhat = forecast(price, ets_model, price.ets_config, n_forecast=n_forecast)"
   ]
  },
  {
   "cell_type": "code",
   "execution_count": 29,
   "metadata": {},
   "outputs": [
    {
     "name": "stdout",
     "output_type": "stream",
     "text": [
      "('mul', True, None)\n",
      "('add', False, None)\n",
      "('add', True, None)\n"
     ]
    }
   ],
   "source": [
    "for price in prices:\n",
    "  print(price.ets_config)"
   ]
  },
  {
   "cell_type": "code",
   "execution_count": 19,
   "metadata": {},
   "outputs": [],
   "source": [
    "path = '../results/result_ets_4.pkl'\n",
    "\n",
    "if(os.path.isfile(path)):\n",
    "    result = joblib.load(path)\n",
    "else:\n",
    "    result = dict()\n",
    "    for price in prices:\n",
    "        result[price.meta.abb] = [price.ets_grid_result, price.ets_config, price.ets_yhat]\n",
    "    joblib.dump(result, path)"
   ]
  },
  {
   "cell_type": "code",
   "execution_count": 21,
   "metadata": {},
   "outputs": [
    {
     "data": {
      "image/png": "[encoded data removed]",
      "text/plain": [
       "<Figure size 1950x900 with 1 Axes>"
      ]
     },
     "metadata": {},
     "output_type": "display_data"
    }
   ],
   "source": [
    "plot_fcast(glu, 'ets', step=1)"
   ]
  },
  {
   "cell_type": "code",
   "execution_count": 24,
   "metadata": {},
   "outputs": [
    {
     "data": {
      "text/html": [
       "<div>\n",
       "<style scoped>\n",
       "    .dataframe tbody tr th:only-of-type {\n",
       "        vertical-align: middle;\n",
       "    }\n",
       "\n",
       "    .dataframe tbody tr th {\n",
       "        vertical-align: top;\n",
       "    }\n",
       "\n",
       "    .dataframe thead th {\n",
       "        text-align: right;\n",
       "    }\n",
       "</style>\n",
       "<table border=\"1\" class=\"dataframe\">\n",
       "  <thead>\n",
       "    <tr style=\"text-align: right;\">\n",
       "      <th></th>\n",
       "      <th>rmse</th>\n",
       "      <th>mae</th>\n",
       "      <th>mape</th>\n",
       "      <th>rmse1</th>\n",
       "      <th>mae1</th>\n",
       "      <th>mape1</th>\n",
       "      <th>rmse2</th>\n",
       "      <th>mae2</th>\n",
       "      <th>mape2</th>\n",
       "      <th>rmse3</th>\n",
       "      <th>mae3</th>\n",
       "      <th>mape3</th>\n",
       "      <th>rmse4</th>\n",
       "      <th>mae4</th>\n",
       "      <th>mape4</th>\n",
       "    </tr>\n",
       "  </thead>\n",
       "  <tbody>\n",
       "    <tr>\n",
       "      <th></th>\n",
       "      <td>864.5041</td>\n",
       "      <td>600.3250</td>\n",
       "      <td>0.0488</td>\n",
       "      <td>463.2144</td>\n",
       "      <td>308.7569</td>\n",
       "      <td>0.0252</td>\n",
       "      <td>782.7994</td>\n",
       "      <td>539.2258</td>\n",
       "      <td>0.0437</td>\n",
       "      <td>1,012.6514</td>\n",
       "      <td>695.5840</td>\n",
       "      <td>0.0565</td>\n",
       "      <td>1,199.3512</td>\n",
       "      <td>857.7333</td>\n",
       "      <td>0.0696</td>\n",
       "    </tr>\n",
       "  </tbody>\n",
       "</table>\n",
       "</div>"
      ],
      "text/plain": [
       "     rmse      mae   mape    rmse1     mae1  mape1    rmse2     mae2  mape2  \\\n",
       " 864.5041 600.3250 0.0488 463.2144 308.7569 0.0252 782.7994 539.2258 0.0437   \n",
       "\n",
       "      rmse3     mae3  mape3      rmse4     mae4  mape4  \n",
       " 1,012.6514 695.5840 0.0565 1,199.3512 857.7333 0.0696  "
      ]
     },
     "execution_count": 24,
     "metadata": {},
     "output_type": "execute_result"
    }
   ],
   "source": [
    "model_measure(hml, hml.ets_yhat, [\"\"])"
   ]
  },
  {
   "cell_type": "code",
   "execution_count": 25,
   "metadata": {},
   "outputs": [
    {
     "data": {
      "text/html": [
       "<div>\n",
       "<style scoped>\n",
       "    .dataframe tbody tr th:only-of-type {\n",
       "        vertical-align: middle;\n",
       "    }\n",
       "\n",
       "    .dataframe tbody tr th {\n",
       "        vertical-align: top;\n",
       "    }\n",
       "\n",
       "    .dataframe thead th {\n",
       "        text-align: right;\n",
       "    }\n",
       "</style>\n",
       "<table border=\"1\" class=\"dataframe\">\n",
       "  <thead>\n",
       "    <tr style=\"text-align: right;\">\n",
       "      <th></th>\n",
       "      <th>rmse</th>\n",
       "      <th>mae</th>\n",
       "      <th>mape</th>\n",
       "      <th>rmse1</th>\n",
       "      <th>mae1</th>\n",
       "      <th>mape1</th>\n",
       "      <th>rmse2</th>\n",
       "      <th>mae2</th>\n",
       "      <th>mape2</th>\n",
       "      <th>rmse3</th>\n",
       "      <th>mae3</th>\n",
       "      <th>mape3</th>\n",
       "      <th>rmse4</th>\n",
       "      <th>mae4</th>\n",
       "      <th>mape4</th>\n",
       "    </tr>\n",
       "  </thead>\n",
       "  <tbody>\n",
       "    <tr>\n",
       "      <th></th>\n",
       "      <td>495.3012</td>\n",
       "      <td>379.6580</td>\n",
       "      <td>0.0474</td>\n",
       "      <td>295.9516</td>\n",
       "      <td>222.6656</td>\n",
       "      <td>0.0275</td>\n",
       "      <td>465.1051</td>\n",
       "      <td>370.6372</td>\n",
       "      <td>0.0462</td>\n",
       "      <td>576.9546</td>\n",
       "      <td>442.3458</td>\n",
       "      <td>0.0553</td>\n",
       "      <td>643.1935</td>\n",
       "      <td>482.9835</td>\n",
       "      <td>0.0606</td>\n",
       "    </tr>\n",
       "  </tbody>\n",
       "</table>\n",
       "</div>"
      ],
      "text/plain": [
       "     rmse      mae   mape    rmse1     mae1  mape1    rmse2     mae2  mape2  \\\n",
       " 495.3012 379.6580 0.0474 295.9516 222.6656 0.0275 465.1051 370.6372 0.0462   \n",
       "\n",
       "    rmse3     mae3  mape3    rmse4     mae4  mape4  \n",
       " 576.9546 442.3458 0.0553 643.1935 482.9835 0.0606  "
      ]
     },
     "execution_count": 25,
     "metadata": {},
     "output_type": "execute_result"
    }
   ],
   "source": [
    "model_measure(wht, wht.ets_yhat, [\"\"])"
   ]
  },
  {
   "cell_type": "code",
   "execution_count": 26,
   "metadata": {},
   "outputs": [
    {
     "data": {
      "text/html": [
       "<div>\n",
       "<style scoped>\n",
       "    .dataframe tbody tr th:only-of-type {\n",
       "        vertical-align: middle;\n",
       "    }\n",
       "\n",
       "    .dataframe tbody tr th {\n",
       "        vertical-align: top;\n",
       "    }\n",
       "\n",
       "    .dataframe thead th {\n",
       "        text-align: right;\n",
       "    }\n",
       "</style>\n",
       "<table border=\"1\" class=\"dataframe\">\n",
       "  <thead>\n",
       "    <tr style=\"text-align: right;\">\n",
       "      <th></th>\n",
       "      <th>rmse</th>\n",
       "      <th>mae</th>\n",
       "      <th>mape</th>\n",
       "      <th>rmse1</th>\n",
       "      <th>mae1</th>\n",
       "      <th>mape1</th>\n",
       "      <th>rmse2</th>\n",
       "      <th>mae2</th>\n",
       "      <th>mape2</th>\n",
       "      <th>rmse3</th>\n",
       "      <th>mae3</th>\n",
       "      <th>mape3</th>\n",
       "      <th>rmse4</th>\n",
       "      <th>mae4</th>\n",
       "      <th>mape4</th>\n",
       "    </tr>\n",
       "  </thead>\n",
       "  <tbody>\n",
       "    <tr>\n",
       "      <th></th>\n",
       "      <td>871.8920</td>\n",
       "      <td>664.5522</td>\n",
       "      <td>0.0605</td>\n",
       "      <td>512.1047</td>\n",
       "      <td>363.7199</td>\n",
       "      <td>0.0334</td>\n",
       "      <td>802.7196</td>\n",
       "      <td>600.9746</td>\n",
       "      <td>0.0551</td>\n",
       "      <td>997.1670</td>\n",
       "      <td>785.2024</td>\n",
       "      <td>0.0717</td>\n",
       "      <td>1,175.5767</td>\n",
       "      <td>908.3117</td>\n",
       "      <td>0.0820</td>\n",
       "    </tr>\n",
       "  </tbody>\n",
       "</table>\n",
       "</div>"
      ],
      "text/plain": [
       "     rmse      mae   mape    rmse1     mae1  mape1    rmse2     mae2  mape2  \\\n",
       " 871.8920 664.5522 0.0605 512.1047 363.7199 0.0334 802.7196 600.9746 0.0551   \n",
       "\n",
       "    rmse3     mae3  mape3      rmse4     mae4  mape4  \n",
       " 997.1670 785.2024 0.0717 1,175.5767 908.3117 0.0820  "
      ]
     },
     "execution_count": 26,
     "metadata": {},
     "output_type": "execute_result"
    }
   ],
   "source": [
    "model_measure(glu, glu.ets_yhat, [\"\"])"
   ]
  },
  {
   "cell_type": "code",
   "execution_count": null,
   "metadata": {},
   "outputs": [],
   "source": []
  }
 ],
 "metadata": {
  "kernelspec": {
   "display_name": "Python 3",
   "language": "python",
   "name": "python3"
  },
  "language_info": {
   "codemirror_mode": {
    "name": "ipython",
    "version": 3
   },
   "file_extension": ".py",
   "mimetype": "text/x-python",
   "name": "python",
   "nbconvert_exporter": "python",
   "pygments_lexer": "ipython3",
   "version": "3.7.6"
  },
  "toc-autonumbering": false,
  "toc-showtags": false
 },
 "nbformat": 4,
 "nbformat_minor": 4
}
